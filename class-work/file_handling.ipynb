{
 "cells": [
  {
   "cell_type": "markdown",
   "metadata": {},
   "source": [
    "if we run open(\"file.txt\",\"+wt\") command with \"+wt\" then even if the file is not present in the directory, it will create a file named \"file.txt\""
   ]
  },
  {
   "cell_type": "code",
   "execution_count": 6,
   "metadata": {},
   "outputs": [
    {
     "name": "stdout",
     "output_type": "stream",
     "text": [
      "\n"
     ]
    }
   ],
   "source": [
    "f = open(\"fileH.txt\",\"+wt\")\n",
    "f.write(\"File Handling Test\")\n",
    "print(f.read())\n",
    "f.close()"
   ]
  },
  {
   "cell_type": "markdown",
   "metadata": {},
   "source": [
    "\"+a\" appends or adds other texts into the existing file 1. \"+w\" over writes the content which is already present ..."
   ]
  },
  {
   "cell_type": "code",
   "execution_count": 19,
   "metadata": {},
   "outputs": [],
   "source": [
    "f = open(\"file1.txt\",\"+w\")\n",
    "f.write(\"This is file 1\")\n",
    "f.close()\n",
    "g = open(\"file1.txt\",\"+a\")\n",
    "g.write(\"This is modified file 1\")\n",
    "g.close()"
   ]
  },
  {
   "cell_type": "markdown",
   "metadata": {},
   "source": [
    "Write a code to delete a file."
   ]
  },
  {
   "cell_type": "code",
   "execution_count": 18,
   "metadata": {},
   "outputs": [],
   "source": [
    "import os\n",
    "os.remove(\"file1.txt\")"
   ]
  },
  {
   "cell_type": "code",
   "execution_count": 20,
   "metadata": {},
   "outputs": [
    {
     "name": "stdout",
     "output_type": "stream",
     "text": [
      "File is not present !\n",
      "Creating a new file...\n"
     ]
    }
   ],
   "source": [
    "import os\n",
    "if(os.path.exists(\"Ross.txt\")):\n",
    "    print(\"File is present\")\n",
    "else:\n",
    "    print(\"File is not present !\")\n",
    "    print(\"Creating a new file...\")\n",
    "    a = open(\"Ross.txt\",\"+w\")\n",
    "    a.write(\"We were on a break !\")\n",
    "    a.close()\n"
   ]
  },
  {
   "cell_type": "markdown",
   "metadata": {},
   "source": [
    "Create a directory/folder"
   ]
  },
  {
   "cell_type": "code",
   "execution_count": 22,
   "metadata": {},
   "outputs": [
    {
     "name": "stdout",
     "output_type": "stream",
     "text": [
      "Folder Not Found !\n",
      "Creating a folder for you...\n"
     ]
    }
   ],
   "source": [
    "import os\n",
    "if (os.path.exists(\"Joey\")):\n",
    "    print(\"Folder found !\")\n",
    "else:\n",
    "    print(\"Folder Not Found !\")\n",
    "    print(\"Creating a folder for you...\")\n",
    "    os.mkdir(\"Joey\")\n",
    "    b = open(\"Joey/prompt.txt\",\"+w\")\n",
    "    b.write(\"How you doin ?\")\n",
    "    b.close()"
   ]
  },
  {
   "cell_type": "markdown",
   "metadata": {},
   "source": [
    "Creating a .csv file"
   ]
  },
  {
   "cell_type": "code",
   "execution_count": 38,
   "metadata": {},
   "outputs": [],
   "source": [
    "l = open(\"data.csv\",\"+a\")\n",
    "l.write(\"Name , Age , City\")\n",
    "l.write(\"Gaurav,20,Lucknow\")\n",
    "l.close()"
   ]
  },
  {
   "cell_type": "markdown",
   "metadata": {},
   "source": [
    "NOTE -:If you dont close the file with l.close then a output will be generated with the number of characters present in the file..."
   ]
  }
 ],
 "metadata": {
  "kernelspec": {
   "display_name": "Python 3",
   "language": "python",
   "name": "python3"
  },
  "language_info": {
   "codemirror_mode": {
    "name": "ipython",
    "version": 3
   },
   "file_extension": ".py",
   "mimetype": "text/x-python",
   "name": "python",
   "nbconvert_exporter": "python",
   "pygments_lexer": "ipython3",
   "version": "3.11.5"
  }
 },
 "nbformat": 4,
 "nbformat_minor": 2
}
