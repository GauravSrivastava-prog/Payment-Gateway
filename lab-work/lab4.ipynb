{
 "cells": [
  {
   "cell_type": "markdown",
   "metadata": {},
   "source": [
    "Q-1 Create the list through different ways, and display the list content (directly, through loop, slicing etc.)"
   ]
  },
  {
   "cell_type": "markdown",
   "metadata": {},
   "source": [
    "-> Direct Method"
   ]
  },
  {
   "cell_type": "code",
   "execution_count": 1,
   "metadata": {},
   "outputs": [
    {
     "name": "stdout",
     "output_type": "stream",
     "text": [
      "[1, 2, 3, 4, 5]\n"
     ]
    }
   ],
   "source": [
    "direct_list = [1, 2, 3, 4, 5]\n",
    "print(direct_list)"
   ]
  },
  {
   "cell_type": "markdown",
   "metadata": {},
   "source": [
    "-> Using Loop"
   ]
  },
  {
   "cell_type": "code",
   "execution_count": 3,
   "metadata": {},
   "outputs": [
    {
     "name": "stdout",
     "output_type": "stream",
     "text": [
      "[1, 2, 3, 4, 5]\n"
     ]
    }
   ],
   "source": [
    "loop_list = []\n",
    "for i in range(1, 6):\n",
    "    loop_list.append(i)\n",
    "print(loop_list)"
   ]
  },
  {
   "cell_type": "markdown",
   "metadata": {},
   "source": [
    "-> Using slicing "
   ]
  },
  {
   "cell_type": "code",
   "execution_count": 4,
   "metadata": {},
   "outputs": [
    {
     "name": "stdout",
     "output_type": "stream",
     "text": [
      "[1, 2, 3, 4, 5]\n"
     ]
    }
   ],
   "source": [
    "sliced_list = list(range(1, 6))\n",
    "print(sliced_list)"
   ]
  },
  {
   "cell_type": "markdown",
   "metadata": {},
   "source": [
    "-> Displaying list contents directly"
   ]
  },
  {
   "cell_type": "code",
   "execution_count": 5,
   "metadata": {},
   "outputs": [
    {
     "name": "stdout",
     "output_type": "stream",
     "text": [
      "Direct List: [1, 2, 3, 4, 5]\n",
      "Loop List: [1, 2, 3, 4, 5]\n",
      "Sliced List: [1, 2, 3, 4, 5]\n"
     ]
    }
   ],
   "source": [
    "print(\"Direct List:\", direct_list)\n",
    "print(\"Loop List:\", loop_list)\n",
    "print(\"Sliced List:\", sliced_list)"
   ]
  },
  {
   "cell_type": "markdown",
   "metadata": {},
   "source": [
    "-> Displaying list contents using a loop"
   ]
  },
  {
   "cell_type": "code",
   "execution_count": 6,
   "metadata": {},
   "outputs": [
    {
     "name": "stdout",
     "output_type": "stream",
     "text": [
      "\n",
      "Displaying list contents using loop:\n",
      "1 2 3 4 5 \n"
     ]
    }
   ],
   "source": [
    "print(\"\\nDisplaying list contents using loop:\")\n",
    "for item in direct_list:\n",
    "    print(item, end=' ')\n",
    "print()\n"
   ]
  },
  {
   "cell_type": "markdown",
   "metadata": {},
   "source": [
    "-> Displaying list contents using slicing"
   ]
  },
  {
   "cell_type": "code",
   "execution_count": 7,
   "metadata": {},
   "outputs": [
    {
     "name": "stdout",
     "output_type": "stream",
     "text": [
      "\n",
      "Displaying list contents using slicing:\n",
      "[1, 2, 3, 4, 5]\n"
     ]
    }
   ],
   "source": [
    "print(\"\\nDisplaying list contents using slicing:\")\n",
    "print(direct_list[:])"
   ]
  },
  {
   "cell_type": "markdown",
   "metadata": {},
   "source": [
    "Q2 - Do the list cloning."
   ]
  },
  {
   "cell_type": "code",
   "execution_count": 8,
   "metadata": {},
   "outputs": [
    {
     "name": "stdout",
     "output_type": "stream",
     "text": [
      "Original List: [1, 2, 3, 4, 5]\n",
      "Cloned List 1 (using slicing): [1, 2, 3, 4, 5]\n",
      "Cloned List 2 (using copy() method): [1, 2, 3, 4, 5]\n",
      "Cloned List 3 (using list() constructor): [1, 2, 3, 4, 5]\n"
     ]
    }
   ],
   "source": [
    "original_list = [1, 2, 3, 4, 5]\n",
    "cloned_list_1 = original_list[:]\n",
    "cloned_list_2 = original_list.copy()\n",
    "cloned_list_3 = list(original_list)\n",
    "print(\"Original List:\", original_list)\n",
    "print(\"Cloned List 1 (using slicing):\", cloned_list_1)\n",
    "print(\"Cloned List 2 (using copy() method):\", cloned_list_2)\n",
    "print(\"Cloned List 3 (using list() constructor):\", cloned_list_3)"
   ]
  },
  {
   "cell_type": "markdown",
   "metadata": {},
   "source": [
    "Q3 - Show the list processing through append, insert, extend, count, remove pop, sort, max,\n",
    "min function"
   ]
  },
  {
   "cell_type": "code",
   "execution_count": 9,
   "metadata": {},
   "outputs": [
    {
     "name": "stdout",
     "output_type": "stream",
     "text": [
      "After append: [3, 1, 4, 1, 5, 9, 2, 6, 5, 8]\n",
      "After insert: [3, 1, 7, 4, 1, 5, 9, 2, 6, 5, 8]\n",
      "After extend: [3, 1, 7, 4, 1, 5, 9, 2, 6, 5, 8, 0, 2, 9]\n",
      "Count of 5: 2\n",
      "After removing first occurrence of 2: [3, 1, 7, 4, 1, 5, 9, 6, 5, 8, 0, 2, 9]\n",
      "Popped element at index 4: 1\n",
      "After pop: [3, 1, 7, 4, 5, 9, 6, 5, 8, 0, 2, 9]\n",
      "After sorting: [0, 1, 2, 3, 4, 5, 5, 6, 7, 8, 9, 9]\n",
      "Maximum element: 9\n",
      "Minimum element: 0\n"
     ]
    }
   ],
   "source": [
    "my_list = [3, 1, 4, 1, 5, 9, 2, 6, 5]\n",
    "my_list.append(8)\n",
    "print(\"After append:\", my_list)\n",
    "my_list.insert(2, 7)\n",
    "print(\"After insert:\", my_list)\n",
    "my_list.extend([0, 2, 9])\n",
    "print(\"After extend:\", my_list)\n",
    "count_5 = my_list.count(5)\n",
    "print(\"Count of 5:\", count_5)\n",
    "my_list.remove(2)\n",
    "print(\"After removing first occurrence of 2:\", my_list)\n",
    "popped_element = my_list.pop(4)\n",
    "print(\"Popped element at index 4:\", popped_element)\n",
    "print(\"After pop:\", my_list)\n",
    "my_list.sort()\n",
    "print(\"After sorting:\", my_list)\n",
    "max_element = max(my_list)\n",
    "min_element = min(my_list)\n",
    "print(\"Maximum element:\", max_element)\n",
    "print(\"Minimum element:\", min_element)"
   ]
  },
  {
   "cell_type": "markdown",
   "metadata": {},
   "source": [
    "Q4 - Find the common elements between two lists."
   ]
  },
  {
   "cell_type": "code",
   "execution_count": 10,
   "metadata": {},
   "outputs": [
    {
     "name": "stdout",
     "output_type": "stream",
     "text": [
      "Common elements: [3, 4, 5]\n"
     ]
    }
   ],
   "source": [
    "list1 = [1, 2, 3, 4, 5]\n",
    "list2 = [3, 4, 5, 6, 7]\n",
    "common_elements = set(list1) & set(list2)\n",
    "common_elements_list = list(common_elements)\n",
    "print(\"Common elements:\", common_elements_list)"
   ]
  },
  {
   "cell_type": "markdown",
   "metadata": {},
   "source": [
    "Q5- Through function, show the mutable property of list."
   ]
  },
  {
   "cell_type": "code",
   "execution_count": 11,
   "metadata": {},
   "outputs": [
    {
     "name": "stdout",
     "output_type": "stream",
     "text": [
      "Original List: [1, 2, 3]\n",
      "Modified List: [1, 10, 3, 4]\n",
      "Original List after function call: [1, 10, 3, 4]\n"
     ]
    }
   ],
   "source": [
    "def modify_list(my_list):\n",
    "    print(\"Original List:\", my_list)\n",
    "    \n",
    "    # Modify the list\n",
    "    my_list.append(4)\n",
    "    my_list[1] = 10\n",
    "    \n",
    "    print(\"Modified List:\", my_list)\n",
    "\n",
    "original_list = [1, 2, 3]\n",
    "\n",
    "modify_list(original_list)\n",
    "\n",
    "print(\"Original List after function call:\", original_list)"
   ]
  }
 ],
 "metadata": {
  "kernelspec": {
   "display_name": "Python 3",
   "language": "python",
   "name": "python3"
  },
  "language_info": {
   "codemirror_mode": {
    "name": "ipython",
    "version": 3
   },
   "file_extension": ".py",
   "mimetype": "text/x-python",
   "name": "python",
   "nbconvert_exporter": "python",
   "pygments_lexer": "ipython3",
   "version": "3.11.5"
  }
 },
 "nbformat": 4,
 "nbformat_minor": 2
}
