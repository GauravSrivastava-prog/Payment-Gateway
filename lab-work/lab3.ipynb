{
 "cells": [
  {
   "cell_type": "markdown",
   "metadata": {},
   "source": [
    "Q1- Write a function that accepts a hexadecimal number as a string and converts the same into equivalant binary number."
   ]
  },
  {
   "cell_type": "code",
   "execution_count": 1,
   "metadata": {},
   "outputs": [
    {
     "data": {
      "text/plain": [
       "'0001110101000000'"
      ]
     },
     "execution_count": 1,
     "metadata": {},
     "output_type": "execute_result"
    }
   ],
   "source": [
    "def binconv(hexstr):\n",
    "    binstr = \"\"\n",
    "    strlen = len(hexstr)\n",
    "    i = 0\n",
    "    while(i < strlen):\n",
    "        if (hexstr[i] == '0'):\n",
    "            binstr = binstr + \"0000\"\n",
    "        elif (hexstr[i] == '1'):\n",
    "            binstr = binstr + \"0001\"\n",
    "        elif (hexstr[i] == '2'):\n",
    "            binstr = binstr + \"0010\"\n",
    "        elif (hexstr[i] == '3'):\n",
    "            binstr = binstr + \"0011\"\n",
    "        elif (hexstr[i] == '4'):\n",
    "            binstr = binstr + \"0100\"\n",
    "        elif (hexstr[i] == '5'):\n",
    "            binstr = binstr + \"0101\"\n",
    "        elif (hexstr[i] == '6'):\n",
    "            binstr = binstr + \"0110\"\n",
    "        elif (hexstr[i] == '7'):\n",
    "            binstr = binstr + \"0111\"\n",
    "        elif (hexstr[i] == '8'):\n",
    "            binstr = binstr + \"1000\"\n",
    "        elif (hexstr[i] == '9'):\n",
    "            binstr = binstr + \"1001\"\n",
    "        elif (hexstr[i] == 'A'):\n",
    "            binstr = binstr + \"1010\"\n",
    "        elif (hexstr[i] == 'B'):\n",
    "            binstr = binstr + \"1011\"\n",
    "        elif (hexstr[i] == 'C'):\n",
    "            binstr = binstr + \"1100\"\n",
    "        elif (hexstr[i] == 'D'):\n",
    "            binstr = binstr + \"1101\"\n",
    "        elif (hexstr[i] == 'E'):\n",
    "            binstr = binstr + \"1110\"\n",
    "        elif (hexstr[i] == 'F'):\n",
    "            binstr = binstr + \"1111\"\n",
    "        i = i + 1\n",
    "    return binstr\n",
    "\n",
    "binconv(\"1D40\")"
   ]
  },
  {
   "cell_type": "markdown",
   "metadata": {},
   "source": [
    "Q2- Write a function that takes a word as a argument and returns a word that repeats itself based on the number of letters in the word."
   ]
  },
  {
   "cell_type": "code",
   "execution_count": 2,
   "metadata": {},
   "outputs": [
    {
     "name": "stdout",
     "output_type": "stream",
     "text": [
      "hellohellohellohellohello"
     ]
    }
   ],
   "source": [
    "def rep(word):\n",
    "    x = len(word)\n",
    "    i = 0\n",
    "    while (i < x):\n",
    "        print(word,end='')\n",
    "        i = i + 1\n",
    "rep(\"hello\")"
   ]
  },
  {
   "cell_type": "markdown",
   "metadata": {},
   "source": [
    "Q3- Write a function that reads a string containing binary digits and convert it into it's equivalant decimal integer."
   ]
  },
  {
   "cell_type": "code",
   "execution_count": 19,
   "metadata": {},
   "outputs": [
    {
     "name": "stdout",
     "output_type": "stream",
     "text": [
      "8\n"
     ]
    }
   ],
   "source": [
    "import math\n",
    "def decconv(binstr):\n",
    "    size = len(binstr)\n",
    "    power = size - 1\n",
    "    digits = list(binstr)\n",
    "    sum = 0\n",
    "    i = 0\n",
    "    while (i < size):\n",
    "        sum = sum + int(digits[i]) * pow(2,power)\n",
    "        i = i + 1\n",
    "        power = power - 1\n",
    "    print(sum)\n",
    "decconv(\"1000\")"
   ]
  },
  {
   "cell_type": "markdown",
   "metadata": {},
   "source": [
    "Q4- Write a function that accepts two positive integers a and b (such that a<b) and returns a list that contains all the odd numbers between a and b (including a and b if applicable) in descending order."
   ]
  },
  {
   "cell_type": "code",
   "execution_count": 22,
   "metadata": {},
   "outputs": [
    {
     "name": "stdout",
     "output_type": "stream",
     "text": [
      "[9, 7, 5, 3]\n"
     ]
    }
   ],
   "source": [
    "def order(a,b):\n",
    "    i = min(a,b)\n",
    "    j = max(a,b)\n",
    "    k = 0\n",
    "    res = list()\n",
    "    while (j >= i):\n",
    "        if (j % 2 != 0):\n",
    "            res.insert(k,j)\n",
    "            k = k + 1\n",
    "        j = j - 1\n",
    "    print(res)\n",
    "order(3,10)"
   ]
  },
  {
   "cell_type": "markdown",
   "metadata": {},
   "source": [
    "Q5- Write a program to multiply two vectors (represented as tuples) of length 5 through a user-defined function. The main program must supply suitable variables to the function."
   ]
  },
  {
   "cell_type": "code",
   "execution_count": 17,
   "metadata": {},
   "outputs": [
    {
     "name": "stdout",
     "output_type": "stream",
     "text": [
      "(1, 4, 9, 16, 25)\n"
     ]
    }
   ],
   "source": [
    "if __name__ == '__main__':\n",
    "    i = 0\n",
    "    vec1input = input('Enter space-separated integers in vector 1: ')\n",
    "    vec1 = tuple(int(item) for item in vec1input.split())\n",
    "    vec2input = input('Enter space-separated integers in vector 2: ')\n",
    "    vec2 = tuple(int(item) for item in vec2input.split())\n",
    "    res = []\n",
    "    while (i < 5):\n",
    "        res.append(vec1[i]*vec2[i])\n",
    "        i = i + 1\n",
    "    print(tuple(res))\n",
    "    \n"
   ]
  },
  {
   "cell_type": "markdown",
   "metadata": {},
   "source": [
    "Q6- Write a program that creates tuples with two fields referring to x and y coordinates in a 2-D Cartesian space. Create four such variables denoting four points in the plane. Determine and print the Euclidean distances between these points and the lines of equations passing through the pairs of points using a user defined function. The same function must print the angle between the lines too. Based on the length of sides computed by this function, you should invoke another function from within the current function that determines whether the quadrilateral formed is a regular one."
   ]
  },
  {
   "cell_type": "code",
   "execution_count": null,
   "metadata": {},
   "outputs": [],
   "source": []
  },
  {
   "cell_type": "markdown",
   "metadata": {},
   "source": [
    "Q7- Write a program that computes addition, subtraction, multiplication, and division of two complex numbers implemented as tuples through the different user-defined functions."
   ]
  },
  {
   "cell_type": "code",
   "execution_count": 21,
   "metadata": {},
   "outputs": [
    {
     "name": "stdout",
     "output_type": "stream",
     "text": [
      "Eg: x+iy\n"
     ]
    },
    {
     "name": "stdout",
     "output_type": "stream",
     "text": [
      "[]\n"
     ]
    }
   ],
   "source": [
    "print(\"Eg: x+iy\")\n",
    "i = 0\n",
    "C1_input = input(\"Enter 1st Complex Number : \")\n",
    "Cnum1 = tuple((item) for item in C1_input.split('+'))\n",
    "C2_input = input(\"Enter 2nd Complex Number : \")\n",
    "Cnum2 = tuple((item) for item in C2_input.split('+'))\n",
    "imag = []\n",
    "real = []\n",
    "if ('i' in Cnum1):\n",
    "    Cnum1.replace('i','')\n",
    "    imag.append(int(Cnum1))\n",
    "print(imag)\n"
   ]
  }
 ],
 "metadata": {
  "kernelspec": {
   "display_name": "Python 3",
   "language": "python",
   "name": "python3"
  },
  "language_info": {
   "codemirror_mode": {
    "name": "ipython",
    "version": 3
   },
   "file_extension": ".py",
   "mimetype": "text/x-python",
   "name": "python",
   "nbconvert_exporter": "python",
   "pygments_lexer": "ipython3",
   "version": "3.11.5"
  }
 },
 "nbformat": 4,
 "nbformat_minor": 2
}
