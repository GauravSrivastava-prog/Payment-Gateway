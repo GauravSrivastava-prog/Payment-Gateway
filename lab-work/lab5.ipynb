{
 "cells": [
  {
   "cell_type": "markdown",
   "metadata": {},
   "source": [
    "Q1 - Generate squares of all the integers from 1 to 50."
   ]
  },
  {
   "cell_type": "code",
   "execution_count": 4,
   "metadata": {},
   "outputs": [
    {
     "name": "stdout",
     "output_type": "stream",
     "text": [
      "Square of  1 -:1\n",
      "Square of  2 -:4\n",
      "Square of  3 -:9\n",
      "Square of  4 -:16\n",
      "Square of  5 -:25\n",
      "Square of  6 -:36\n",
      "Square of  7 -:49\n",
      "Square of  8 -:64\n",
      "Square of  9 -:81\n",
      "Square of  10 -:100\n",
      "Square of  11 -:121\n",
      "Square of  12 -:144\n",
      "Square of  13 -:169\n",
      "Square of  14 -:196\n",
      "Square of  15 -:225\n",
      "Square of  16 -:256\n",
      "Square of  17 -:289\n",
      "Square of  18 -:324\n",
      "Square of  19 -:361\n",
      "Square of  20 -:400\n",
      "Square of  21 -:441\n",
      "Square of  22 -:484\n",
      "Square of  23 -:529\n",
      "Square of  24 -:576\n",
      "Square of  25 -:625\n",
      "Square of  26 -:676\n",
      "Square of  27 -:729\n",
      "Square of  28 -:784\n",
      "Square of  29 -:841\n",
      "Square of  30 -:900\n",
      "Square of  31 -:961\n",
      "Square of  32 -:1024\n",
      "Square of  33 -:1089\n",
      "Square of  34 -:1156\n",
      "Square of  35 -:1225\n",
      "Square of  36 -:1296\n",
      "Square of  37 -:1369\n",
      "Square of  38 -:1444\n",
      "Square of  39 -:1521\n",
      "Square of  40 -:1600\n",
      "Square of  41 -:1681\n",
      "Square of  42 -:1764\n",
      "Square of  43 -:1849\n",
      "Square of  44 -:1936\n",
      "Square of  45 -:2025\n",
      "Square of  46 -:2116\n",
      "Square of  47 -:2209\n",
      "Square of  48 -:2304\n",
      "Square of  49 -:2401\n",
      "Square of  50 -:2500\n"
     ]
    }
   ],
   "source": [
    "for i in range(1,51):\n",
    "    print(\"Square of \",i,\"-:\",end='')\n",
    "    print(i*i)"
   ]
  },
  {
   "cell_type": "markdown",
   "metadata": {},
   "source": [
    "Q2 - Count the number of characters in a string using a loop."
   ]
  },
  {
   "cell_type": "code",
   "execution_count": 8,
   "metadata": {},
   "outputs": [
    {
     "name": "stdout",
     "output_type": "stream",
     "text": [
      "1\n",
      "2\n",
      "3\n",
      "4\n",
      "5\n"
     ]
    }
   ],
   "source": [
    "str = \"Hello\"\n",
    "count = 0\n",
    "for i in str:\n",
    "    count = count + 1\n",
    "    print(count)"
   ]
  },
  {
   "cell_type": "markdown",
   "metadata": {},
   "source": [
    "Q3 - Print a string in reverse."
   ]
  },
  {
   "cell_type": "code",
   "execution_count": 14,
   "metadata": {},
   "outputs": [
    {
     "name": "stdout",
     "output_type": "stream",
     "text": [
      "dlroW\n"
     ]
    }
   ],
   "source": [
    "str = \"World\"\n",
    "print(str[::-1])"
   ]
  }
 ],
 "metadata": {
  "kernelspec": {
   "display_name": "Python 3",
   "language": "python",
   "name": "python3"
  },
  "language_info": {
   "codemirror_mode": {
    "name": "ipython",
    "version": 3
   },
   "file_extension": ".py",
   "mimetype": "text/x-python",
   "name": "python",
   "nbconvert_exporter": "python",
   "pygments_lexer": "ipython3",
   "version": "3.11.5"
  }
 },
 "nbformat": 4,
 "nbformat_minor": 2
}
